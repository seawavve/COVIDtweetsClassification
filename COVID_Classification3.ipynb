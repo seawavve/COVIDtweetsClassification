{
  "nbformat": 4,
  "nbformat_minor": 0,
  "metadata": {
    "colab": {
      "name": "COVID_Classification.ipynb",
      "provenance": [],
      "collapsed_sections": [
        "vuyOOs87AnAn",
        "_b9kU6D1ApsG"
      ],
      "authorship_tag": "ABX9TyM0Sf1LUdKGHJ0do7LLM2rs",
      "include_colab_link": true
    },
    "kernelspec": {
      "name": "python3",
      "display_name": "Python 3"
    },
    "language_info": {
      "name": "python"
    },
    "accelerator": "GPU"
  },
  "cells": [
    {
      "cell_type": "markdown",
      "metadata": {
        "id": "view-in-github",
        "colab_type": "text"
      },
      "source": [
        "<a href=\"https://colab.research.google.com/github/seawavve/COVIDtweetsClassification/blob/main/COVID_Classification3.ipynb\" target=\"_parent\"><img src=\"https://colab.research.google.com/assets/colab-badge.svg\" alt=\"Open In Colab\"/></a>"
      ]
    },
    {
      "cell_type": "markdown",
      "metadata": {
        "id": "vuyOOs87AnAn"
      },
      "source": [
        "# 준비"
      ]
    },
    {
      "cell_type": "code",
      "metadata": {
        "colab": {
          "base_uri": "https://localhost:8080/"
        },
        "id": "8xawinf-2HEn",
        "outputId": "accd610d-024e-4bda-d7b4-7216ae22a8be"
      },
      "source": [
        "! pip install -q tensorflow-text\n",
        "! pip install -q tf-models-official"
      ],
      "execution_count": 1,
      "outputs": [
        {
          "output_type": "stream",
          "text": [
            "\u001b[K     |████████████████████████████████| 4.3MB 8.0MB/s \n",
            "\u001b[K     |████████████████████████████████| 1.6MB 7.6MB/s \n",
            "\u001b[K     |████████████████████████████████| 102kB 11.7MB/s \n",
            "\u001b[K     |████████████████████████████████| 645kB 28.4MB/s \n",
            "\u001b[K     |████████████████████████████████| 686kB 47.1MB/s \n",
            "\u001b[K     |████████████████████████████████| 215kB 51.5MB/s \n",
            "\u001b[K     |████████████████████████████████| 358kB 53.7MB/s \n",
            "\u001b[K     |████████████████████████████████| 1.2MB 54.1MB/s \n",
            "\u001b[K     |████████████████████████████████| 38.2MB 78kB/s \n",
            "\u001b[K     |████████████████████████████████| 61kB 10.0MB/s \n",
            "\u001b[K     |████████████████████████████████| 51kB 7.1MB/s \n",
            "\u001b[?25h  Building wheel for py-cpuinfo (setup.py) ... \u001b[?25l\u001b[?25hdone\n",
            "  Building wheel for seqeval (setup.py) ... \u001b[?25l\u001b[?25hdone\n"
          ],
          "name": "stdout"
        }
      ]
    },
    {
      "cell_type": "code",
      "metadata": {
        "id": "2baHq21Y1qAa"
      },
      "source": [
        "import os\n",
        "import shutil\n",
        "from sklearn.preprocessing import LabelEncoder\n",
        "import tensorflow as tf\n",
        "import tensorflow_hub as hub\n",
        "import tensorflow_text as text\n",
        "from official.nlp import optimization\n",
        "\n",
        "tf.get_logger().setLevel('ERROR')"
      ],
      "execution_count": 2,
      "outputs": []
    },
    {
      "cell_type": "markdown",
      "metadata": {
        "id": "_b9kU6D1ApsG"
      },
      "source": [
        "# 데이터 전처리"
      ]
    },
    {
      "cell_type": "code",
      "metadata": {
        "colab": {
          "base_uri": "https://localhost:8080/",
          "height": 204
        },
        "id": "0qJ5PKEj2mr8",
        "outputId": "8a17d5a5-b195-4afc-fbd4-b7a7cf3efe22"
      },
      "source": [
        "import pandas as pd\n",
        "train = pd.read_csv('Corona_NLP_train.csv',encoding='ISO-8859-1')\n",
        "test = pd.read_csv('Corona_NLP_test.csv',encoding='ISO-8859-1')\n",
        "train = train[['OriginalTweet', 'Sentiment']]\n",
        "test = test[['OriginalTweet', 'Sentiment']]\n",
        "train.head()\n"
      ],
      "execution_count": 3,
      "outputs": [
        {
          "output_type": "execute_result",
          "data": {
            "text/html": [
              "<div>\n",
              "<style scoped>\n",
              "    .dataframe tbody tr th:only-of-type {\n",
              "        vertical-align: middle;\n",
              "    }\n",
              "\n",
              "    .dataframe tbody tr th {\n",
              "        vertical-align: top;\n",
              "    }\n",
              "\n",
              "    .dataframe thead th {\n",
              "        text-align: right;\n",
              "    }\n",
              "</style>\n",
              "<table border=\"1\" class=\"dataframe\">\n",
              "  <thead>\n",
              "    <tr style=\"text-align: right;\">\n",
              "      <th></th>\n",
              "      <th>OriginalTweet</th>\n",
              "      <th>Sentiment</th>\n",
              "    </tr>\n",
              "  </thead>\n",
              "  <tbody>\n",
              "    <tr>\n",
              "      <th>0</th>\n",
              "      <td>@MeNyrbie @Phil_Gahan @Chrisitv https://t.co/i...</td>\n",
              "      <td>Neutral</td>\n",
              "    </tr>\n",
              "    <tr>\n",
              "      <th>1</th>\n",
              "      <td>advice Talk to your neighbours family to excha...</td>\n",
              "      <td>Positive</td>\n",
              "    </tr>\n",
              "    <tr>\n",
              "      <th>2</th>\n",
              "      <td>Coronavirus Australia: Woolworths to give elde...</td>\n",
              "      <td>Positive</td>\n",
              "    </tr>\n",
              "    <tr>\n",
              "      <th>3</th>\n",
              "      <td>My food stock is not the only one which is emp...</td>\n",
              "      <td>Positive</td>\n",
              "    </tr>\n",
              "    <tr>\n",
              "      <th>4</th>\n",
              "      <td>Me, ready to go at supermarket during the #COV...</td>\n",
              "      <td>Extremely Negative</td>\n",
              "    </tr>\n",
              "  </tbody>\n",
              "</table>\n",
              "</div>"
            ],
            "text/plain": [
              "                                       OriginalTweet           Sentiment\n",
              "0  @MeNyrbie @Phil_Gahan @Chrisitv https://t.co/i...             Neutral\n",
              "1  advice Talk to your neighbours family to excha...            Positive\n",
              "2  Coronavirus Australia: Woolworths to give elde...            Positive\n",
              "3  My food stock is not the only one which is emp...            Positive\n",
              "4  Me, ready to go at supermarket during the #COV...  Extremely Negative"
            ]
          },
          "metadata": {
            "tags": []
          },
          "execution_count": 3
        }
      ]
    },
    {
      "cell_type": "code",
      "metadata": {
        "colab": {
          "base_uri": "https://localhost:8080/"
        },
        "id": "GkHZgOQ82mv-",
        "outputId": "03798c5c-b1bf-4de9-e28e-70f6527f97d7"
      },
      "source": [
        "train.info()"
      ],
      "execution_count": 4,
      "outputs": [
        {
          "output_type": "stream",
          "text": [
            "<class 'pandas.core.frame.DataFrame'>\n",
            "RangeIndex: 41157 entries, 0 to 41156\n",
            "Data columns (total 2 columns):\n",
            " #   Column         Non-Null Count  Dtype \n",
            "---  ------         --------------  ----- \n",
            " 0   OriginalTweet  41157 non-null  object\n",
            " 1   Sentiment      41157 non-null  object\n",
            "dtypes: object(2)\n",
            "memory usage: 643.2+ KB\n"
          ],
          "name": "stdout"
        }
      ]
    },
    {
      "cell_type": "code",
      "metadata": {
        "colab": {
          "base_uri": "https://localhost:8080/",
          "height": 312
        },
        "id": "k5y2InAh3ST3",
        "outputId": "7f50fc3f-4abe-4fa0-f06b-a327f4e88bc3"
      },
      "source": [
        "import seaborn as sns\n",
        "import matplotlib.pyplot as plt\n",
        "sns.countplot(y='Sentiment', data=train)\n",
        "plt.title(\"Number of Sentiments in train data\")"
      ],
      "execution_count": 5,
      "outputs": [
        {
          "output_type": "execute_result",
          "data": {
            "text/plain": [
              "Text(0.5, 1.0, 'Number of Sentiments in train data')"
            ]
          },
          "metadata": {
            "tags": []
          },
          "execution_count": 5
        },
        {
          "output_type": "display_data",
          "data": {
            "image/png": "[encoded data removed]",
            "text/plain": [
              "<Figure size 432x288 with 1 Axes>"
            ]
          },
          "metadata": {
            "tags": [],
            "needs_background": "light"
          }
        }
      ]
    },
    {
      "cell_type": "code",
      "metadata": {
        "colab": {
          "base_uri": "https://localhost:8080/",
          "height": 312
        },
        "id": "B8SpXnNt3SYZ",
        "outputId": "454413e0-675d-4a92-f9b2-3e6f0a8213e9"
      },
      "source": [
        "sns.countplot(y='Sentiment', data=test)\n",
        "plt.title(\"Number of Sentiments in test data\")"
      ],
      "execution_count": 6,
      "outputs": [
        {
          "output_type": "execute_result",
          "data": {
            "text/plain": [
              "Text(0.5, 1.0, 'Number of Sentiments in test data')"
            ]
          },
          "metadata": {
            "tags": []
          },
          "execution_count": 6
        },
        {
          "output_type": "display_data",
          "data": {
            "image/png": "[encoded data removed]",
            "text/plain": [
              "<Figure size 432x288 with 1 Axes>"
            ]
          },
          "metadata": {
            "tags": [],
            "needs_background": "light"
          }
        }
      ]
    },
    {
      "cell_type": "code",
      "metadata": {
        "colab": {
          "base_uri": "https://localhost:8080/"
        },
        "id": "VvHJaRgS36HK",
        "outputId": "71c5ab3a-554e-4bee-e15c-f6dbc3d15b1d"
      },
      "source": [
        "import nltk\n",
        "nltk.download('stopwords')\n",
        "import re\n",
        "from nltk.corpus import stopwords\n",
        "import string\n",
        "\n",
        "stop_words = stopwords.words(\"english\")\n",
        "def removeUnwantedText(text):\n",
        "    #remove urls\n",
        "    text = re.sub(r'http\\S+', \" \", text)\n",
        "    \n",
        "    #remove mentions\n",
        "    text = re.sub(r'@\\w+',' ',text)\n",
        "    \n",
        "    #remove hastags\n",
        "    text = re.sub(r'#\\w+', ' ', text)\n",
        "    \n",
        "    #remove html tags\n",
        "    text = re.sub('r<.*?>',' ', text)\n",
        "    \n",
        "     #remove stop words \n",
        "    text = text.split()\n",
        "    text = \" \".join([word for word in text if not word in stop_words])\n",
        "    \n",
        "    for punctuation in string.punctuation:\n",
        "        text = text.replace(punctuation, \"\")\n",
        "    \n",
        "    return text.lower()\n",
        "\n",
        "train['OriginalTweet'] = train['OriginalTweet'].apply(lambda x: removeUnwantedText(x))\n",
        "test['OriginalTweet'] = test['OriginalTweet'].apply(lambda x: removeUnwantedText(x))"
      ],
      "execution_count": 7,
      "outputs": [
        {
          "output_type": "stream",
          "text": [
            "[nltk_data] Downloading package stopwords to /root/nltk_data...\n",
            "[nltk_data]   Unzipping corpora/stopwords.zip.\n"
          ],
          "name": "stdout"
        }
      ]
    },
    {
      "cell_type": "code",
      "metadata": {
        "colab": {
          "base_uri": "https://localhost:8080/"
        },
        "id": "INy8ZiX1E3xG",
        "outputId": "cc3e0a3b-8122-498e-a20c-60641cd57d98"
      },
      "source": [
        "train.OriginalTweet.dropna()\n",
        "train.Sentiment.dropna()\n",
        "test.OriginalTweet.dropna()\n",
        "test.Sentiment.dropna()"
      ],
      "execution_count": 8,
      "outputs": [
        {
          "output_type": "execute_result",
          "data": {
            "text/plain": [
              "0       Extremely Negative\n",
              "1                 Positive\n",
              "2       Extremely Positive\n",
              "3                 Negative\n",
              "4                  Neutral\n",
              "               ...        \n",
              "3793              Positive\n",
              "3794              Negative\n",
              "3795               Neutral\n",
              "3796    Extremely Negative\n",
              "3797    Extremely Positive\n",
              "Name: Sentiment, Length: 3798, dtype: object"
            ]
          },
          "metadata": {
            "tags": []
          },
          "execution_count": 8
        }
      ]
    },
    {
      "cell_type": "code",
      "metadata": {
        "id": "SSOYXW_FHLeK"
      },
      "source": [
        "from sklearn import model_selection\n",
        "train_X, val_X, train_y, val_y = model_selection.train_test_split(train['OriginalTweet'],\n",
        "                                                                  train['Sentiment'], \n",
        "                                                                  test_size=0.3)\n",
        "\n",
        "test_X, test_y = test['OriginalTweet'],test['Sentiment']"
      ],
      "execution_count": 9,
      "outputs": []
    },
    {
      "cell_type": "code",
      "metadata": {
        "id": "ptQj9DbU5IQU"
      },
      "source": [
        "# label_encoder = LabelEncoder()\n",
        "# train['Encoded_Sentiment'] = label_encoder.fit_transform(train['Sentiment'])\n",
        "# test['Encoded_Sentiment'] = label_encoder.fit_transform(test['Sentiment'])\n",
        "\n",
        "\n",
        "# label_encoder = LabelEncoder()\n",
        "\n",
        "# train['Encoded_Sentiment'] = label_encoder.fit_transform(train_y)\n",
        "# test['Encoded_Sentiment'] = label_encoder.fit_transform(test['Sentiment'])\n",
        "# display(train[:20])\n",
        "\n",
        "# train['Encoded_Sentiment'] = tf.keras.utils.to_categorical(train['Encoded_Sentiment'],num_classes=5)\n",
        "# test['Encoded_Sentiment'] = tf.keras.utils.to_categorical(test['Encoded_Sentiment'],num_classes=5)\n",
        "# display(train[:20])\n",
        "label_encoder = LabelEncoder()\n",
        "\n",
        "vec = label_encoder.fit_transform(train_y)\n",
        "train_y = tf.keras.utils.to_categorical(vec)\n",
        "\n",
        "vec = label_encoder.fit_transform(val_y)\n",
        "val_y = tf.keras.utils.to_categorical(vec)\n",
        "\n",
        "vec = label_encoder.fit_transform(test_y)\n",
        "test_y = tf.keras.utils.to_categorical(vec)\n"
      ],
      "execution_count": 10,
      "outputs": []
    },
    {
      "cell_type": "code",
      "metadata": {
        "colab": {
          "base_uri": "https://localhost:8080/"
        },
        "id": "8I-5jUGtHvPh",
        "outputId": "8be7546c-842a-419b-a61c-4361fe34d6d2"
      },
      "source": [
        "train_y"
      ],
      "execution_count": 11,
      "outputs": [
        {
          "output_type": "execute_result",
          "data": {
            "text/plain": [
              "array([[0., 1., 0., 0., 0.],\n",
              "       [0., 0., 0., 0., 1.],\n",
              "       [0., 1., 0., 0., 0.],\n",
              "       ...,\n",
              "       [0., 0., 1., 0., 0.],\n",
              "       [1., 0., 0., 0., 0.],\n",
              "       [0., 0., 1., 0., 0.]], dtype=float32)"
            ]
          },
          "metadata": {
            "tags": []
          },
          "execution_count": 11
        }
      ]
    },
    {
      "cell_type": "markdown",
      "metadata": {
        "id": "jpNCk9YsBP3m"
      },
      "source": [
        "# 모델 "
      ]
    },
    {
      "cell_type": "code",
      "metadata": {
        "id": "_Xe6NUKn36Js"
      },
      "source": [
        "#@title Configure the model { run: \"auto\" }\n",
        "BERT_MODEL = \"https://tfhub.dev/google/experts/bert/wiki_books/sst2/2\"\n",
        "# Preprocessing must match the model, but all the above use the same.\n",
        "PREPROCESS_MODEL = hub.load('https://tfhub.dev/tensorflow/bert_en_uncased_preprocess/3')"
      ],
      "execution_count": 12,
      "outputs": []
    },
    {
      "cell_type": "code",
      "metadata": {
        "id": "Cczx9GeG36Mi"
      },
      "source": [
        "from tensorflow.keras import layers\n",
        "\n",
        "def build_classifier_model():\n",
        "  text_input = tf.keras.layers.Input(shape=(), dtype=tf.string, name='text')\n",
        "  preprocessing_layer = hub.KerasLayer(PREPROCESS_MODEL, name='preprocessing')\n",
        "  encoder_inputs = preprocessing_layer(text_input)\n",
        "  encoder = hub.KerasLayer(BERT_MODEL, trainable=True, name='BERT_encoder')\n",
        "  outputs = encoder(encoder_inputs)\n",
        "  net = outputs['pooled_output']\n",
        "\n",
        "  net = tf.keras.layers.Dropout(0.1)(net)\n",
        "  #net = tf.keras.layers.Dense(64, activation='relu')(net)\n",
        "  net = tf.keras.layers.Dense(5, activation='sigmoid', name='classifier')(net)\n",
        "  return tf.keras.Model(text_input, net)"
      ],
      "execution_count": 13,
      "outputs": []
    },
    {
      "cell_type": "code",
      "metadata": {
        "id": "aIfVl6sm9oFM"
      },
      "source": [
        "! pip install -q tf-models-official\n",
        "from official.nlp import optimization"
      ],
      "execution_count": 14,
      "outputs": []
    },
    {
      "cell_type": "code",
      "metadata": {
        "id": "Dz2BNZm59oHo"
      },
      "source": [
        "loss = tf.keras.losses.CategoricalCrossentropy()\n",
        "metric = tf.keras.metrics.CategoricalAccuracy()\n",
        "epochs = 3\n",
        "init_lr = 3e-5\n",
        "BATCH_SIZE=10\n",
        "train_data_size = len(train_X)\n",
        "steps_per_epoch = int(train_data_size/BATCH_SIZE)\n",
        "num_train_steps = steps_per_epoch * 3\n",
        "num_warmup_steps = int(0.1*num_train_steps/BATCH_SIZE)\n",
        "\n",
        "optimizer = optimization.create_optimizer(init_lr=init_lr,\n",
        "                                          num_train_steps=num_train_steps,\n",
        "                                          num_warmup_steps=num_warmup_steps,\n",
        "                                          optimizer_type='adamw')"
      ],
      "execution_count": 15,
      "outputs": []
    },
    {
      "cell_type": "code",
      "metadata": {
        "id": "43poE0Hy9oMm"
      },
      "source": [
        "classifier_model = build_classifier_model()\n",
        "classifier_model.compile(optimizer=optimizer,\n",
        "                         loss=loss,\n",
        "                         metrics=metric)"
      ],
      "execution_count": 16,
      "outputs": []
    },
    {
      "cell_type": "code",
      "metadata": {
        "colab": {
          "base_uri": "https://localhost:8080/"
        },
        "id": "wI32BxOy9vhv",
        "outputId": "00b062c5-138d-4ecc-e6bb-ba7d8e8bd497"
      },
      "source": [
        "from tensorflow.keras.callbacks import EarlyStopping\n",
        "print(f'Training model with {BERT_MODEL}')\n",
        "es = EarlyStopping(monitor='val_loss', mode='min', verbose=1, patience=3)\n",
        "history = classifier_model.fit(x=train_X,\n",
        "                    y=train_y,\n",
        "                    validation_data=(val_X, val_y),\n",
        "                    epochs=epochs,\n",
        "                    validation_steps=1,\n",
        "                    verbose=1,\n",
        "                    batch_size=BATCH_SIZE,\n",
        "                    callbacks=[es])"
      ],
      "execution_count": 17,
      "outputs": [
        {
          "output_type": "stream",
          "text": [
            "Training model with https://tfhub.dev/google/experts/bert/wiki_books/sst2/2\n",
            "Epoch 1/3\n",
            "2881/2881 [==============================] - 898s 306ms/step - loss: 0.9052 - categorical_accuracy: 0.6492 - val_loss: 0.6961 - val_categorical_accuracy: 0.8000\n",
            "Epoch 2/3\n",
            "2881/2881 [==============================] - 884s 307ms/step - loss: 0.5739 - categorical_accuracy: 0.8047 - val_loss: 0.6326 - val_categorical_accuracy: 0.8000\n",
            "Epoch 3/3\n",
            "2881/2881 [==============================] - 884s 307ms/step - loss: 0.4277 - categorical_accuracy: 0.8646 - val_loss: 0.7762 - val_categorical_accuracy: 0.8000\n"
          ],
          "name": "stdout"
        }
      ]
    },
    {
      "cell_type": "code",
      "metadata": {
        "colab": {
          "base_uri": "https://localhost:8080/"
        },
        "id": "qw81vmAD9yhZ",
        "outputId": "0268b910-3317-45ab-d742-278c888ebca2"
      },
      "source": [
        "loss, acc = classifier_model.evaluate(x=test_X, y=test_y)\n",
        "print(\"test loss: \", loss, \", test acc: \", 100*acc, \"%\")\n"
      ],
      "execution_count": 18,
      "outputs": [
        {
          "output_type": "stream",
          "text": [
            "119/119 [==============================] - 39s 323ms/step - loss: 0.8025 - categorical_accuracy: 0.7662\n",
            "test loss:  0.8024818301200867 , test acc:  76.61927342414856 %\n"
          ],
          "name": "stdout"
        }
      ]
    },
    {
      "cell_type": "code",
      "metadata": {
        "colab": {
          "base_uri": "https://localhost:8080/",
          "height": 438
        },
        "id": "5DmelKev9ykW",
        "outputId": "03ee1cdb-0c2a-4dbb-9c26-9ba52405d8f8"
      },
      "source": [
        "history_dict = history.history\n",
        "print(history_dict.keys())\n",
        "\n",
        "acc = history_dict['categorical_accuracy']\n",
        "val_acc=history_dict['val_categorical_accuracy']\n",
        "loss = history_dict['loss']\n",
        "val_loss = history_dict['val_loss']\n",
        "\n",
        "epochs = range(1, len(acc) + 1)\n",
        "fig = plt.figure(figsize=(10, 6))\n",
        "fig.tight_layout()\n",
        "\n",
        "plt.subplot(2, 1, 1)\n",
        "plt.plot(epochs, loss, 'r', label='Training loss')\n",
        "plt.plot(epochs, val_loss, 'b', label='Validation loss')\n",
        "plt.title('Training and validation loss')\n",
        "plt.xlabel('Epochs')\n",
        "plt.ylabel('Loss')\n",
        "plt.legend()\n",
        "\n",
        "plt.subplot(2, 1, 2)\n",
        "plt.plot(epochs, acc, 'r', label='Training acc')\n",
        "plt.plot(epochs, val_acc, 'b', label='Validation acc')\n",
        "plt.title('Training and validation accuracy')\n",
        "plt.xlabel('Epochs')\n",
        "plt.ylabel('Accuracy')\n",
        "plt.legend(loc='lower right')"
      ],
      "execution_count": 19,
      "outputs": [
        {
          "output_type": "stream",
          "text": [
            "dict_keys(['loss', 'categorical_accuracy', 'val_loss', 'val_categorical_accuracy'])\n"
          ],
          "name": "stdout"
        },
        {
          "output_type": "execute_result",
          "data": {
            "text/plain": [
              "<matplotlib.legend.Legend at 0x7f8d520e4810>"
            ]
          },
          "metadata": {
            "tags": []
          },
          "execution_count": 19
        },
        {
          "output_type": "display_data",
          "data": {
            "image/png": "[encoded data removed]",
            "text/plain": [
              "<Figure size 720x432 with 2 Axes>"
            ]
          },
          "metadata": {
            "tags": [],
            "needs_background": "light"
          }
        }
      ]
    },
    {
      "cell_type": "code",
      "metadata": {
        "id": "D2t1Iqow9ym1",
        "outputId": "8971e6b8-0254-467c-d82e-dfecb5c96c85",
        "colab": {
          "base_uri": "https://localhost:8080/"
        }
      },
      "source": [
        "#Prediction\n",
        "\n",
        "import numpy as np\n",
        "predictions = classifier_model.predict(test_X)\n",
        "print(len(test_X),len(test_y),len(predictions))\n",
        "#print(predictions[:20])\n",
        "result_array=[]\n",
        "\n",
        "for x,y,pred in zip(test_X,test_y,predictions):\n",
        "  result_array.append([x,np.argmax(y),np.argmax(pred)])                       \n",
        "\n",
        "\n",
        "result_df=pd.DataFrame(result_array,columns=['OriginalTweet', 'Sentiment','PredictedSentiment'])\n",
        "result_df.to_csv('./result.csv')"
      ],
      "execution_count": 28,
      "outputs": [
        {
          "output_type": "stream",
          "text": [
            "3798 3798 3798\n"
          ],
          "name": "stdout"
        }
      ]
    },
    {
      "cell_type": "code",
      "metadata": {
        "id": "tlnkaNmq9vkp"
      },
      "source": [
        "from sklearn.metrics import confusion_matrix\n",
        "CLASSES = ['Extremely Negative', 'Negative', 'Positive', 'Extremely Positive', 'Neutral']\n",
        "plt.title('confusion matrix - train data')\n",
        "plt.xlabel(\"Predicted\")\n",
        "plt.ylabel(\"True\")\n",
        "\n",
        "preds = classifier_model.predict(train_X)\n",
        "\n",
        "# Convert the one-hot vectors to labels\n",
        "train_y_labels = tf.argmax(train_y, axis = 1)\n",
        "preds_labels = tf.argmax(preds, axis = 1)\n",
        "\n",
        "cm_train = tf.math.confusion_matrix(train_y_labels,\n",
        "                                    preds_labels,5,\n",
        "                                    dtype=tf.dtypes.float32)\n",
        "\n",
        "# Normalize the confusion matrix so that each row sums to 1.\n",
        "cm_train = cm_train/cm_train.numpy().sum(axis=1)[:, tf.newaxis]\n",
        "\n",
        "sns.heatmap(data=cm_train,\n",
        "            annot=True,\n",
        "            xticklabels=CLASSES,\n",
        "            yticklabels=CLASSES)\n",
        "\n",
        "plt.show()"
      ],
      "execution_count": null,
      "outputs": []
    },
    {
      "cell_type": "code",
      "metadata": {
        "id": "ZJDjOop-9vnU"
      },
      "source": [
        ""
      ],
      "execution_count": null,
      "outputs": []
    }
  ]
}